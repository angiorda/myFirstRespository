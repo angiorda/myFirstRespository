{
 "cells": [
  {
   "cell_type": "markdown",
   "id": "e4751744",
   "metadata": {},
   "source": [
    "# Data Science Tools and Ecosystem"
   ]
  },
  {
   "cell_type": "markdown",
   "id": "d6b332b0",
   "metadata": {},
   "source": [
    "In this notebook, Data Science Tools and Ecosystem are summarized."
   ]
  },
  {
   "cell_type": "markdown",
   "id": "fa38ca9f",
   "metadata": {},
   "source": [
    "**Objectives:**\n",
    "\n",
    "-  List popular languages for Data Science\n",
    "-  List commonly used libraries in Python\n",
    "-  List open source development environments\n",
    "-  Use ordered and unordered lists\n",
    "-  Perform simple arithemetic operations"
   ]
  },
  {
   "cell_type": "markdown",
   "id": "281278f3",
   "metadata": {},
   "source": [
    "Some of the popular languages that Data Scientists use are:\n",
    "1. Python\n",
    "2. R\n",
    "3. SQL\n",
    "4. Scala\n",
    "5. Julia"
   ]
  },
  {
   "cell_type": "markdown",
   "id": "c2d867d4",
   "metadata": {},
   "source": [
    "Some of the commonly used libraties used by Data Scientist include:\n",
    "\n",
    "    1. NumPy\n",
    "    2. Panadas\n",
    "    3. Matplotlib\n",
    "    4. SciPy"
   ]
  },
  {
   "cell_type": "markdown",
   "id": "98cd19e0",
   "metadata": {},
   "source": [
    "|Data Science Tools|\n",
    "|------------------|\n",
    "|JupyterLab|\n",
    "|R Studio|\n",
    "|Spyder|\n",
    "|Apache Spark|"
   ]
  },
  {
   "cell_type": "markdown",
   "id": "bcee7c62",
   "metadata": {},
   "source": [
    "### Below are a few examples of evaluating arithmetic expression in Python. "
   ]
  },
  {
   "cell_type": "code",
   "execution_count": 2,
   "id": "ee3def18",
   "metadata": {},
   "outputs": [
    {
     "data": {
      "text/plain": [
       "17"
      ]
     },
     "execution_count": 2,
     "metadata": {},
     "output_type": "execute_result"
    }
   ],
   "source": [
    "#This is a simple arithemetic expression to multiply then add integers\n",
    "(3*4)+5"
   ]
  },
  {
   "cell_type": "code",
   "execution_count": 3,
   "id": "7eab6641",
   "metadata": {},
   "outputs": [
    {
     "data": {
      "text/plain": [
       "3.3333333333333335"
      ]
     },
     "execution_count": 3,
     "metadata": {},
     "output_type": "execute_result"
    }
   ],
   "source": [
    "#This will convert 200 minutes to hours by dividing by 60\n",
    "200/60"
   ]
  },
  {
   "cell_type": "markdown",
   "id": "ba821c0c",
   "metadata": {},
   "source": [
    "## Author\n",
    "Andrea Giordano"
   ]
  },
  {
   "cell_type": "code",
   "execution_count": null,
   "id": "cd86a40e",
   "metadata": {},
   "outputs": [],
   "source": []
  }
 ],
 "metadata": {
  "kernelspec": {
   "display_name": "Python 3 (ipykernel)",
   "language": "python",
   "name": "python3"
  },
  "language_info": {
   "codemirror_mode": {
    "name": "ipython",
    "version": 3
   },
   "file_extension": ".py",
   "mimetype": "text/x-python",
   "name": "python",
   "nbconvert_exporter": "python",
   "pygments_lexer": "ipython3",
   "version": "3.9.13"
  }
 },
 "nbformat": 4,
 "nbformat_minor": 5
}
